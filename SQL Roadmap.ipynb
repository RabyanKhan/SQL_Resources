{
 "cells": [
  {
   "cell_type": "markdown",
   "metadata": {},
   "source": [
    "# Learn SQL step by step in 30 days\n",
    "\n",
    "Following is a schedule to learn SQL step by step considering 2 hours of dedicated n focused study every single day. This program is perfect for beginners with no knowledge of SQL."
   ]
  },
  {
   "cell_type": "markdown",
   "metadata": {},
   "source": [
    "## Let's Start Learning SQL :)"
   ]
  },
  {
   "cell_type": "markdown",
   "metadata": {},
   "source": [
    "### SQL: Week 1\n",
    "**First week, focus on learning the basics to understand SQL and it's application.**\n",
    "\n",
    "SQL Topics to learn in first week: SQL Introduction, Data types, Create database and table, INSERT, UPDATE, DELETE, ALTER TABLE, DROP TABLE, TRUNCATE, SELECT STATEMENT n WHERE CLAUSE, Import files to SQL, Functions in SQL, String and Aggregae Functions + Solve Example and practice by writing queries."
   ]
  },
  {
   "cell_type": "markdown",
   "metadata": {},
   "source": [
    "**Watch videos and learn:**\n",
    "\n",
    "1. Introduction to SQL-What Is SQL & Database: https://www.youtube.com/watch?v=yH1zCq-iaeU\n",
    "\n",
    "* Data Types, Primary-Foreign Keys & Constraints: https://www.youtube.com/watch?v=HmH-76_2Ak8\n",
    "\n",
    "* Install postgresql and pgadmin4: https://www.youtube.com/watch?v=E-Qn2tbcmDE\n",
    "\n",
    "* Create Table In SQL & Create Database: https://www.youtube.com/watch?v=v-2cIUgx_jw\n",
    "\n",
    "* INSERT UPDATE, DELETE & ALTER Table: https://www.youtube.com/watch?v=4YAAgrm8_ZI\n",
    "\n",
    "* SELECT Statement & WHERE Clause with Example : https://www.youtube.com/watch?v=eiLqDeDp7Oc\n",
    "\n",
    "* How To Import Excel File (CSV) to SQL: https://www.youtube.com/watch?v=rfWYbMd3ApA\n",
    "\n",
    "* Functions in SQL | String Functions: https://www.youtube.com/watch?v=55_UN5gVARs\n",
    "\n",
    "* Aggregate Functions: https://www.youtube.com/watch?v=9NfthspfXEo"
   ]
  },
  {
   "cell_type": "markdown",
   "metadata": {},
   "source": [
    "### SQL: Week 2\n",
    "**Second week, focus on learning advance SQL and it's application.**\n",
    "\n",
    "SQL Topics to learn in second week: GROUP BY n HAVING clause, Timestamp and Extract Function- DateTime, SOL JOINS, Subquery, Window Function, CASE Statement and CTE + Solve Example and practice by writing queries.**"
   ]
  },
  {
   "cell_type": "markdown",
   "metadata": {},
   "source": [
    "**Watch videos and learn:**\n",
    "10. Group By and Having Clause: https://www.youtube.com/watch?v=SvJLXj05cow\n",
    "\n",
    "* TimeStamp and Extract Function-Date Time Function: https://www.youtube.com/watch?v=kwGh6XvLrEk\n",
    "\n",
    "* Complete SQL JOINS For Beginners: https://www.youtube.com/watch?v=H6988OpZKTU\n",
    "\n",
    "* SELF JOIN | UNION & UNION ALL: https://www.youtube.com/watch?v=V3xjmBi1QQE\n",
    "\n",
    "* Subquery: https://www.youtube.com/watch?v=5O2OuN1ougU\n",
    "\n",
    "* Window Function: "
   ]
  },
  {
   "cell_type": "markdown",
   "metadata": {},
   "source": [
    "### SQL: Week 3 & Week 4\n",
    "**Third n forth week, since now you know SQL properly (fundamentals, syntax, functions, operators, etc).** \n",
    "\n",
    "Now focus on learning how to solve complex SQL problems, solve same problems with different methods and how to optimize SQL query. Below we have shared list of FREE websites to WRITE and PRACTICE SQL queries. "
   ]
  },
  {
   "cell_type": "markdown",
   "metadata": {},
   "source": [
    "**Watch videos and practice** (more videos to add)\n",
    "\n",
    "1. Most Asked SQL Interview Question - Solved Using 3 Methods | Complex SQL Query & Solution: https://www.youtube.com/watch?v=9gHIiuyySws\n",
    "2. SQL Interview Question"
   ]
  },
  {
   "cell_type": "markdown",
   "metadata": {},
   "source": [
    "### Websites to practice SQL online:"
   ]
  },
  {
   "cell_type": "markdown",
   "metadata": {},
   "source": [
    "* HackerRank: https://www.hackerrank.com/domains/sql\n",
    "        \n",
    "* SQL Practice: https://www.sql-practice.com/\n",
    "        \n",
    "* 8 week sql Challenge by Danny: https://8weeksqlchallenge.com/\n",
    "        \n",
    "* data lemur by Nick: https://datalemur.com/"
   ]
  },
  {
   "cell_type": "markdown",
   "metadata": {},
   "source": [
    "### SQL Course by Udemy:\n",
    "The Complete SQL Bootcamp 2022: https://www.udemy.com/course/the-complete-sql-bootcamp/"
   ]
  },
  {
   "cell_type": "markdown",
   "metadata": {},
   "source": [
    "### Free Resources to Learn SQL (YouTube):"
   ]
  },
  {
   "cell_type": "markdown",
   "metadata": {},
   "source": [
    "* MySQL Tutorial for Beginners [Full Course]: https://www.youtube.com/watch?v=7S_tz1z_5bA\n",
    "        \n",
    "* SQL Tutorial - Full Database Course for Beginners: https://www.youtube.com/watch?v=HXV3zeQKqGY"
   ]
  }
 ],
 "metadata": {
  "kernelspec": {
   "display_name": "Python 3",
   "language": "python",
   "name": "python3"
  },
  "language_info": {
   "codemirror_mode": {
    "name": "ipython",
    "version": 3
   },
   "file_extension": ".py",
   "mimetype": "text/x-python",
   "name": "python",
   "nbconvert_exporter": "python",
   "pygments_lexer": "ipython3",
   "version": "3.8.3"
  }
 },
 "nbformat": 4,
 "nbformat_minor": 4
}
